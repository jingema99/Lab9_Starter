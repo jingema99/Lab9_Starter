{
  "cells": [
    {
      "cell_type": "markdown",
      "metadata": {
        "id": "g8gTqG6JoaYp"
      },
      "source": [
        "<h1><center>\n",
        "    ECE 438 - Laboratory 4<br/>\n",
        "    Sampling and Reconstruction of Continuous-Time Signals<br/>\n",
        "    <small>Date:</small><br/>\n",
        "    <small>Section:</small>\n",
        "</center></h1>"
      ]
    },
    {
      "cell_type": "markdown",
      "metadata": {
        "id": "qqW1Pq6AoaYs"
      },
      "source": [
        "|Name |Signature |Time spent outside lab|\n",
        "|:---:|:---:|:---:|\n",
        "|Student Name #1 [---%]| | |\n",
        "|Student Name #2 [---%]| | |"
      ]
    },
    {
      "cell_type": "markdown",
      "metadata": {
        "id": "PD3Z-z_RoaYs"
      },
      "source": [
        "||Below expectations| Lacks in some respect|Meets all expectations|\n",
        "|:---:|:---:|:---:|:---:|\n",
        "|**Completeness of the report**||||\n",
        "|**Organization of the report**||||\n",
        "|**Quality of figures**: *Correctly labeled with title, x-axis, y-axis, and name(s)*||||\n",
        "|**Understanding of sampling and reconstruction with an impulse generator (Section 2) (25 pts)**: *Plots of signals and their frequency spectrum, \\`explain why\\` questions*||||\n",
        "|**Understanding of sampling and reconstruction with sample and hold (Section 1 and 3) (25 pts)**: *Plots, questions, analytical questions*||||\n",
        "|**Understanding of discrete-time interpolation (Section 4) (25 pts)**: *Plots of signals and their frequency spectrum, questions*||||\n",
        "|**Understanding of discrete-time decimation (Section 5) (25 pts)**: *Python code, questions*||||"
      ]
    },
    {
      "cell_type": "code",
      "execution_count": null,
      "metadata": {
        "id": "bdu2Cpb9oaYs"
      },
      "outputs": [],
      "source": [
        "import numpy as np\n",
        "import matplotlib.pyplot as plt"
      ]
    },
    {
      "cell_type": "code",
      "execution_count": null,
      "metadata": {
        "id": "HImG9p1BoaYt"
      },
      "outputs": [],
      "source": [
        "# make sure the plot is displayed in this notebook\n",
        "%matplotlib inline\n",
        "# specify the size of the plot\n",
        "plt.rcParams['figure.figsize'] = (16, 6)\n",
        "\n",
        "# for auto-reloading extenrnal modules\n",
        "%load_ext autoreload\n",
        "%autoreload 2"
      ]
    },
    {
      "cell_type": "markdown",
      "metadata": {
        "id": "qMDyx23ZoaYt"
      },
      "source": [
        "<h3 style=\"color:red;\"><left>Exercise 1</left></h3>"
      ]
    },
    {
      "cell_type": "markdown",
      "metadata": {
        "id": "55UOry3DoaYu"
      },
      "source": [
        "**Let $T_s=1\\text{ sec}$, $f_c=0.45\\text{ Hz}$, and $N=20$.**"
      ]
    },
    {
      "cell_type": "markdown",
      "metadata": {
        "id": "QV8aF8WGoaYu"
      },
      "source": [
        "**1. Compute and plot the magnitude response of the system in Figure 2 without the sample-and-hold device. Let the frequencies be ```f = np.linspace(-1, 1, 2001)```.**"
      ]
    },
    {
      "cell_type": "code",
      "execution_count": null,
      "metadata": {
        "id": "D_QfyhqmoaYu"
      },
      "outputs": [],
      "source": [
        "# write your code here\n"
      ]
    },
    {
      "cell_type": "markdown",
      "metadata": {
        "id": "1wA_YBf9oaYu"
      },
      "source": [
        "**2. Compute and plot the magnitude response of the complete system in Figure 2. Let the frequencies be ```f = np.linspace(-1, 1, 2001)```.**"
      ]
    },
    {
      "cell_type": "code",
      "execution_count": null,
      "metadata": {
        "id": "daAanSh_oaYu"
      },
      "outputs": [],
      "source": [
        "# write your code here\n"
      ]
    },
    {
      "cell_type": "markdown",
      "metadata": {
        "id": "ttQhD5iOoaYu"
      },
      "source": [
        "**3. Comment on the shape of the two magnitude responses. How might the magnitude response of the sample-and-hold affect the design considerations of a high quality audio CD player?**"
      ]
    },
    {
      "cell_type": "markdown",
      "metadata": {
        "id": "-mb_EnrRoaYu"
      },
      "source": [
        "write your answer here"
      ]
    },
    {
      "cell_type": "markdown",
      "metadata": {
        "id": "jm82cwBSoaYu"
      },
      "source": [
        "<h3 style=\"color:red;\"><left>Exercise 2</left></h3>"
      ]
    },
    {
      "cell_type": "markdown",
      "metadata": {
        "id": "t7YoXBwkoaYu"
      },
      "source": [
        "**1.Submit the plot of the input/output signals and the plot of the output signal and its frequency spectrum. On the plot of the spectrum of the reconstructed signal, circle the aliases, i.e. the components that do NOT correspond to the input sine wave.**\n"
      ]
    },
    {
      "cell_type": "markdown",
      "metadata": {
        "id": "oaP0ngpdoaYu"
      },
      "source": [
        "insert your plots here"
      ]
    },
    {
      "cell_type": "markdown",
      "metadata": {
        "id": "kCAMcoRtoaYv"
      },
      "source": [
        "---"
      ]
    },
    {
      "cell_type": "markdown",
      "metadata": {
        "id": "8zF5l-yHoaYv"
      },
      "source": [
        "**2.Submit the plot of the output frequency spectrum for a pulse width of 0.1 sec. Indicate on your plot what has changed and explain why.**"
      ]
    },
    {
      "cell_type": "markdown",
      "metadata": {
        "id": "C_9h3llboaYv"
      },
      "source": [
        "Insert your plots here"
      ]
    },
    {
      "cell_type": "markdown",
      "metadata": {
        "id": "lKqM2wyjoaYv"
      },
      "source": [
        "---"
      ]
    },
    {
      "cell_type": "markdown",
      "metadata": {
        "id": "rRr-Bq4_oaYv"
      },
      "source": [
        "**3.Submit the plot of the input/output signals and the plot of the output signal and its frequency spectrum. On the frequency plot, label the frequency peak that corresponds to the lowest frequency (the fundamental component) of the output signal. Explain why the lowest frequency is no longer the same as the frequency of the input sinusoid.**"
      ]
    },
    {
      "cell_type": "markdown",
      "metadata": {
        "id": "ZCnmhA_OoaYv"
      },
      "source": [
        "Insert your plots here"
      ]
    },
    {
      "cell_type": "markdown",
      "metadata": {
        "id": "NtXQ2sPSoaYv"
      },
      "source": [
        "---"
      ]
    },
    {
      "cell_type": "markdown",
      "metadata": {
        "id": "snvJD0a2oaYv"
      },
      "source": [
        "**4.Submit the plot of the input/output signals and the plot of the output signal and its frequency spectrum. Explain why the output signal has the observed frequency spectrum.**"
      ]
    },
    {
      "cell_type": "markdown",
      "metadata": {
        "id": "KMcLoHOxoaYv"
      },
      "source": [
        "Insert your plots here"
      ]
    },
    {
      "cell_type": "markdown",
      "metadata": {
        "id": "VqYs9SQkoaYv"
      },
      "source": [
        "<h3 style=\"color:red;\"><left>Exercise 3</left></h3>"
      ]
    },
    {
      "cell_type": "markdown",
      "metadata": {
        "id": "aN_xDb1woaYv"
      },
      "source": [
        "**1.Submit the figure containing plots of the magnitude response, the phase response, and the\n",
        "impulse response of this system. Use the tall mode to obtain a larger printout by typing\n",
        "`orient(’tall’)` directly before you print.**"
      ]
    },
    {
      "cell_type": "markdown",
      "metadata": {
        "id": "MG_WxKqZoaYv"
      },
      "source": [
        "Insert your plots here"
      ]
    },
    {
      "cell_type": "markdown",
      "metadata": {
        "id": "vtCU_j1KoaYv"
      },
      "source": [
        "---"
      ]
    },
    {
      "cell_type": "markdown",
      "metadata": {
        "id": "lLfBnEeAoaYw"
      },
      "source": [
        "**2.Submit the figure containing plots of the magnitude response, the phase response, and the\n",
        "impulse response of this system. Explain the reason for the difference in the shape of this\n",
        "magnitude response versus the previous magnitude response. Give an analytical expression\n",
        "for the behavior of the magnitude plot for frequencies below 0.45 Hz.**"
      ]
    },
    {
      "cell_type": "markdown",
      "metadata": {
        "id": "Ay7zxlQWoaYw"
      },
      "source": [
        "Insert your plots here"
      ]
    },
    {
      "cell_type": "markdown",
      "metadata": {
        "id": "SRmWa1KlqOO1"
      },
      "source": [
        "<h3 style=\"color:red;\"><left>Exercise 4</left></h3>"
      ]
    },
    {
      "cell_type": "markdown",
      "metadata": {
        "id": "MMgWTOHaqOO1"
      },
      "source": [
        "**1.Submit your plot of signal c and its frequency spectrum. Circle the aliased components in\n",
        "your plot.**"
      ]
    },
    {
      "cell_type": "markdown",
      "metadata": {
        "id": "Rba0gjCmqOO1"
      },
      "source": [
        "insert your answer here"
      ]
    },
    {
      "cell_type": "markdown",
      "metadata": {
        "id": "JvCs4VyoqOO2"
      },
      "source": [
        "---"
      ]
    },
    {
      "cell_type": "markdown",
      "metadata": {
        "id": "GY13k4Y7qOO2"
      },
      "source": [
        "**2.Submit your plot of signal c and its frequency spectrum. On your frequency plot, circle the first aliased component and label the value of its center frequency. Comment on the shape of the envelope of the spectrum.**\n"
      ]
    },
    {
      "cell_type": "markdown",
      "metadata": {
        "id": "DMNkO-GoqOO2"
      },
      "source": [
        "insert your answer here"
      ]
    },
    {
      "cell_type": "markdown",
      "metadata": {
        "id": "H4sS7TXuqOO2"
      },
      "source": [
        "---"
      ]
    },
    {
      "cell_type": "markdown",
      "metadata": {
        "id": "1hB8q8swqOO2"
      },
      "source": [
        "**3.Submit your plot of signal c and its frequency spectrum. Give the values of the cutoff frequency and gain that were used. On your frequency plot, circle the location of the first aliased component. Explain why discrete-time interpolation is desirable before reconstructing a sampled signal**"
      ]
    },
    {
      "cell_type": "markdown",
      "metadata": {
        "id": "yzFkNka2qOO2"
      },
      "source": [
        "insert your answer here"
      ]
    },
    {
      "cell_type": "markdown",
      "metadata": {
        "id": "Ub9R1YPYqOO3"
      },
      "source": [
        "---"
      ]
    },
    {
      "cell_type": "markdown",
      "metadata": {
        "id": "MdX0odHbqOO3"
      },
      "source": [
        "<h3 style=\"color:red;\"><left>Exercise 5</left></h3>"
      ]
    },
    {
      "cell_type": "markdown",
      "metadata": {
        "id": "8dN2ibpYqOO3"
      },
      "source": [
        "**1. Read in the signal contained in ```music.au``` using ```music, fs = sf.read(\"music.au\")```, and then play it back with sound using ```ipd.Audio(music, rate=fs)```.**"
      ]
    },
    {
      "cell_type": "code",
      "execution_count": null,
      "metadata": {
        "id": "ALOMWOPCqOO3"
      },
      "outputs": [],
      "source": [
        "# insert your code here\n"
      ]
    },
    {
      "cell_type": "markdown",
      "metadata": {
        "id": "NEELJtZYqOO3"
      },
      "source": [
        "---"
      ]
    },
    {
      "cell_type": "markdown",
      "metadata": {
        "id": "EyBCFwXfqOO3"
      },
      "source": [
        "**2. To correct the sampling rate of the signal, form a new signal, ```sig1```, by selecting every other sample of the music vector. Play the new signal, and listen carefully to the new signal.**"
      ]
    },
    {
      "cell_type": "code",
      "execution_count": null,
      "metadata": {
        "id": "MfS0oEg-qOO3"
      },
      "outputs": [],
      "source": [
        "# insert your code here\n"
      ]
    },
    {
      "cell_type": "markdown",
      "metadata": {
        "id": "4EVJgp4PqOO3"
      },
      "source": [
        "---"
      ]
    },
    {
      "cell_type": "markdown",
      "metadata": {
        "id": "7NTWHI_aqOO3"
      },
      "source": [
        "**3. Compute a second subsampled signal, ```sig2```, by first low pass filtering the original music vector using a discrete-time filter of length $20$, and with a cutoff frequency of $\\pi/2$. Then decimate the filtered signal by $2$, and listen carefully to the new signal.**\n",
        "\n",
        "**Hint:** You can create a low-pass filter by using the function [`signal.firwin`](https://docs.scipy.org/doc/scipy/reference/reference/generated/scipy.signal.firwin.html) from ```scipy``` and use the following syntax:\n",
        "```python\n",
        "signal.firwin(M, W/np.pi)\n",
        "```\n",
        "which return a length `M` low-pass filter with cutoff frequency `W` rad/sample.\n",
        "\n",
        "Use [`np.convolve`](https://numpy.org/doc/stable/reference/generated/numpy.convolve.html) to get the convolution of two signals."
      ]
    },
    {
      "cell_type": "code",
      "execution_count": null,
      "metadata": {
        "id": "_fzaFhAOqOO3"
      },
      "outputs": [],
      "source": [
        "# insert your code here\n"
      ]
    },
    {
      "cell_type": "markdown",
      "metadata": {
        "id": "-PKwpxqnqOO3"
      },
      "source": [
        "---"
      ]
    },
    {
      "cell_type": "markdown",
      "metadata": {
        "id": "5-Rsp16nqOO4"
      },
      "source": [
        "**4. Comment on the quality of the audio signal generated by using the two decimation methods. Was there any noticeable distortion in sig1? If so, describe the distortion.**"
      ]
    },
    {
      "cell_type": "markdown",
      "metadata": {
        "id": "gdQoOYpMqOO4"
      },
      "source": [
        "insert your answer here"
      ]
    },
    {
      "cell_type": "markdown",
      "metadata": {
        "id": "LZhYKpmmqOO4"
      },
      "source": [
        "---"
      ]
    }
  ],
  "metadata": {
    "colab": {
      "provenance": []
    },
    "kernelspec": {
      "display_name": "Python 3",
      "name": "python3"
    },
    "language_info": {
      "name": "python"
    }
  },
  "nbformat": 4,
  "nbformat_minor": 0
}
